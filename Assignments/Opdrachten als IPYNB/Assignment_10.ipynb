{
 "cells": [
  {
   "cell_type": "markdown",
   "metadata": {},
   "source": [
    "### Portfolio assignment 10\n",
    "15 min: Perform a bivariate analysis (Pearson correlation and scatter plot) on at least 1 combination of 2 columns with numeric data in the dataset that you chose in portfolio assignment 4. Does the correlation and scatter plot match your expectations? Add your answer to your notebook. Commit the Notebook to your portfolio when you're finished. "
   ]
  },
  {
   "cell_type": "code",
   "execution_count": 1,
   "metadata": {},
   "outputs": [],
   "source": [
    "import pandas as pd\n",
    "pokemons = pd.read_csv('../Pokemon.csv')"
   ]
  },
  {
   "cell_type": "code",
   "execution_count": 2,
   "metadata": {},
   "outputs": [
    {
     "name": "stderr",
     "output_type": "stream",
     "text": [
      "C:\\Users\\dekei\\AppData\\Local\\Temp/ipykernel_24756/167807314.py:2: FutureWarning: this method is deprecated in favour of `Styler.format(precision=..)`\n",
      "  exampleDataCorrelations.style.background_gradient(cmap='coolwarm', axis=None).set_precision(2)\n"
     ]
    },
    {
     "data": {
      "text/html": [
       "<style type=\"text/css\">\n",
       "#T_9117d_row0_col0, #T_9117d_row1_col1, #T_9117d_row2_col2, #T_9117d_row3_col3, #T_9117d_row4_col4, #T_9117d_row5_col5, #T_9117d_row6_col6 {\n",
       "  background-color: #b40426;\n",
       "  color: #f1f1f1;\n",
       "}\n",
       "#T_9117d_row0_col1, #T_9117d_row1_col0 {\n",
       "  background-color: #5572df;\n",
       "  color: #f1f1f1;\n",
       "}\n",
       "#T_9117d_row0_col2, #T_9117d_row2_col0 {\n",
       "  background-color: #5673e0;\n",
       "  color: #f1f1f1;\n",
       "}\n",
       "#T_9117d_row0_col3, #T_9117d_row3_col0 {\n",
       "  background-color: #5470de;\n",
       "  color: #f1f1f1;\n",
       "}\n",
       "#T_9117d_row0_col4, #T_9117d_row4_col0 {\n",
       "  background-color: #536edd;\n",
       "  color: #f1f1f1;\n",
       "}\n",
       "#T_9117d_row0_col5, #T_9117d_row5_col0 {\n",
       "  background-color: #516ddb;\n",
       "  color: #f1f1f1;\n",
       "}\n",
       "#T_9117d_row0_col6, #T_9117d_row6_col0 {\n",
       "  background-color: #3b4cc0;\n",
       "  color: #f1f1f1;\n",
       "}\n",
       "#T_9117d_row1_col2, #T_9117d_row2_col1 {\n",
       "  background-color: #c5d6f2;\n",
       "  color: #000000;\n",
       "}\n",
       "#T_9117d_row1_col3, #T_9117d_row3_col1 {\n",
       "  background-color: #86a9fc;\n",
       "  color: #f1f1f1;\n",
       "}\n",
       "#T_9117d_row1_col4, #T_9117d_row4_col1 {\n",
       "  background-color: #b1cbfc;\n",
       "  color: #000000;\n",
       "}\n",
       "#T_9117d_row1_col5, #T_9117d_row2_col6, #T_9117d_row5_col1, #T_9117d_row6_col2 {\n",
       "  background-color: #b7cff9;\n",
       "  color: #000000;\n",
       "}\n",
       "#T_9117d_row1_col6, #T_9117d_row6_col1 {\n",
       "  background-color: #6f92f3;\n",
       "  color: #f1f1f1;\n",
       "}\n",
       "#T_9117d_row2_col3, #T_9117d_row3_col2 {\n",
       "  background-color: #cad8ef;\n",
       "  color: #000000;\n",
       "}\n",
       "#T_9117d_row2_col4, #T_9117d_row4_col2 {\n",
       "  background-color: #bcd2f7;\n",
       "  color: #000000;\n",
       "}\n",
       "#T_9117d_row2_col5, #T_9117d_row5_col2 {\n",
       "  background-color: #8fb1fe;\n",
       "  color: #000000;\n",
       "}\n",
       "#T_9117d_row3_col4, #T_9117d_row4_col3 {\n",
       "  background-color: #81a4fb;\n",
       "  color: #f1f1f1;\n",
       "}\n",
       "#T_9117d_row3_col5, #T_9117d_row5_col3 {\n",
       "  background-color: #dedcdb;\n",
       "  color: #000000;\n",
       "}\n",
       "#T_9117d_row3_col6, #T_9117d_row6_col3 {\n",
       "  background-color: #3c4ec2;\n",
       "  color: #f1f1f1;\n",
       "}\n",
       "#T_9117d_row4_col5, #T_9117d_row5_col4 {\n",
       "  background-color: #dddcdc;\n",
       "  color: #000000;\n",
       "}\n",
       "#T_9117d_row4_col6, #T_9117d_row6_col4 {\n",
       "  background-color: #d4dbe6;\n",
       "  color: #000000;\n",
       "}\n",
       "#T_9117d_row5_col6, #T_9117d_row6_col5 {\n",
       "  background-color: #8db0fe;\n",
       "  color: #000000;\n",
       "}\n",
       "</style>\n",
       "<table id=\"T_9117d_\">\n",
       "  <thead>\n",
       "    <tr>\n",
       "      <th class=\"blank level0\" >&nbsp;</th>\n",
       "      <th class=\"col_heading level0 col0\" >#</th>\n",
       "      <th class=\"col_heading level0 col1\" >HP</th>\n",
       "      <th class=\"col_heading level0 col2\" >Attack</th>\n",
       "      <th class=\"col_heading level0 col3\" >Defense</th>\n",
       "      <th class=\"col_heading level0 col4\" >Sp. Atk</th>\n",
       "      <th class=\"col_heading level0 col5\" >Sp. Def</th>\n",
       "      <th class=\"col_heading level0 col6\" >Speed</th>\n",
       "    </tr>\n",
       "  </thead>\n",
       "  <tbody>\n",
       "    <tr>\n",
       "      <th id=\"T_9117d_level0_row0\" class=\"row_heading level0 row0\" >#</th>\n",
       "      <td id=\"T_9117d_row0_col0\" class=\"data row0 col0\" >1.00</td>\n",
       "      <td id=\"T_9117d_row0_col1\" class=\"data row0 col1\" >0.10</td>\n",
       "      <td id=\"T_9117d_row0_col2\" class=\"data row0 col2\" >0.10</td>\n",
       "      <td id=\"T_9117d_row0_col3\" class=\"data row0 col3\" >0.09</td>\n",
       "      <td id=\"T_9117d_row0_col4\" class=\"data row0 col4\" >0.09</td>\n",
       "      <td id=\"T_9117d_row0_col5\" class=\"data row0 col5\" >0.09</td>\n",
       "      <td id=\"T_9117d_row0_col6\" class=\"data row0 col6\" >0.01</td>\n",
       "    </tr>\n",
       "    <tr>\n",
       "      <th id=\"T_9117d_level0_row1\" class=\"row_heading level0 row1\" >HP</th>\n",
       "      <td id=\"T_9117d_row1_col0\" class=\"data row1 col0\" >0.10</td>\n",
       "      <td id=\"T_9117d_row1_col1\" class=\"data row1 col1\" >1.00</td>\n",
       "      <td id=\"T_9117d_row1_col2\" class=\"data row1 col2\" >0.42</td>\n",
       "      <td id=\"T_9117d_row1_col3\" class=\"data row1 col3\" >0.24</td>\n",
       "      <td id=\"T_9117d_row1_col4\" class=\"data row1 col4\" >0.36</td>\n",
       "      <td id=\"T_9117d_row1_col5\" class=\"data row1 col5\" >0.38</td>\n",
       "      <td id=\"T_9117d_row1_col6\" class=\"data row1 col6\" >0.18</td>\n",
       "    </tr>\n",
       "    <tr>\n",
       "      <th id=\"T_9117d_level0_row2\" class=\"row_heading level0 row2\" >Attack</th>\n",
       "      <td id=\"T_9117d_row2_col0\" class=\"data row2 col0\" >0.10</td>\n",
       "      <td id=\"T_9117d_row2_col1\" class=\"data row2 col1\" >0.42</td>\n",
       "      <td id=\"T_9117d_row2_col2\" class=\"data row2 col2\" >1.00</td>\n",
       "      <td id=\"T_9117d_row2_col3\" class=\"data row2 col3\" >0.44</td>\n",
       "      <td id=\"T_9117d_row2_col4\" class=\"data row2 col4\" >0.40</td>\n",
       "      <td id=\"T_9117d_row2_col5\" class=\"data row2 col5\" >0.26</td>\n",
       "      <td id=\"T_9117d_row2_col6\" class=\"data row2 col6\" >0.38</td>\n",
       "    </tr>\n",
       "    <tr>\n",
       "      <th id=\"T_9117d_level0_row3\" class=\"row_heading level0 row3\" >Defense</th>\n",
       "      <td id=\"T_9117d_row3_col0\" class=\"data row3 col0\" >0.09</td>\n",
       "      <td id=\"T_9117d_row3_col1\" class=\"data row3 col1\" >0.24</td>\n",
       "      <td id=\"T_9117d_row3_col2\" class=\"data row3 col2\" >0.44</td>\n",
       "      <td id=\"T_9117d_row3_col3\" class=\"data row3 col3\" >1.00</td>\n",
       "      <td id=\"T_9117d_row3_col4\" class=\"data row3 col4\" >0.22</td>\n",
       "      <td id=\"T_9117d_row3_col5\" class=\"data row3 col5\" >0.51</td>\n",
       "      <td id=\"T_9117d_row3_col6\" class=\"data row3 col6\" >0.02</td>\n",
       "    </tr>\n",
       "    <tr>\n",
       "      <th id=\"T_9117d_level0_row4\" class=\"row_heading level0 row4\" >Sp. Atk</th>\n",
       "      <td id=\"T_9117d_row4_col0\" class=\"data row4 col0\" >0.09</td>\n",
       "      <td id=\"T_9117d_row4_col1\" class=\"data row4 col1\" >0.36</td>\n",
       "      <td id=\"T_9117d_row4_col2\" class=\"data row4 col2\" >0.40</td>\n",
       "      <td id=\"T_9117d_row4_col3\" class=\"data row4 col3\" >0.22</td>\n",
       "      <td id=\"T_9117d_row4_col4\" class=\"data row4 col4\" >1.00</td>\n",
       "      <td id=\"T_9117d_row4_col5\" class=\"data row4 col5\" >0.51</td>\n",
       "      <td id=\"T_9117d_row4_col6\" class=\"data row4 col6\" >0.47</td>\n",
       "    </tr>\n",
       "    <tr>\n",
       "      <th id=\"T_9117d_level0_row5\" class=\"row_heading level0 row5\" >Sp. Def</th>\n",
       "      <td id=\"T_9117d_row5_col0\" class=\"data row5 col0\" >0.09</td>\n",
       "      <td id=\"T_9117d_row5_col1\" class=\"data row5 col1\" >0.38</td>\n",
       "      <td id=\"T_9117d_row5_col2\" class=\"data row5 col2\" >0.26</td>\n",
       "      <td id=\"T_9117d_row5_col3\" class=\"data row5 col3\" >0.51</td>\n",
       "      <td id=\"T_9117d_row5_col4\" class=\"data row5 col4\" >0.51</td>\n",
       "      <td id=\"T_9117d_row5_col5\" class=\"data row5 col5\" >1.00</td>\n",
       "      <td id=\"T_9117d_row5_col6\" class=\"data row5 col6\" >0.26</td>\n",
       "    </tr>\n",
       "    <tr>\n",
       "      <th id=\"T_9117d_level0_row6\" class=\"row_heading level0 row6\" >Speed</th>\n",
       "      <td id=\"T_9117d_row6_col0\" class=\"data row6 col0\" >0.01</td>\n",
       "      <td id=\"T_9117d_row6_col1\" class=\"data row6 col1\" >0.18</td>\n",
       "      <td id=\"T_9117d_row6_col2\" class=\"data row6 col2\" >0.38</td>\n",
       "      <td id=\"T_9117d_row6_col3\" class=\"data row6 col3\" >0.02</td>\n",
       "      <td id=\"T_9117d_row6_col4\" class=\"data row6 col4\" >0.47</td>\n",
       "      <td id=\"T_9117d_row6_col5\" class=\"data row6 col5\" >0.26</td>\n",
       "      <td id=\"T_9117d_row6_col6\" class=\"data row6 col6\" >1.00</td>\n",
       "    </tr>\n",
       "  </tbody>\n",
       "</table>\n"
      ],
      "text/plain": [
       "<pandas.io.formats.style.Styler at 0x1d68e6cdd60>"
      ]
     },
     "execution_count": 2,
     "metadata": {},
     "output_type": "execute_result"
    }
   ],
   "source": [
    "exampleDataCorrelations = pokemons.drop(['Total', 'Generation' , 'Legendary'], axis=1).corr()\n",
    "exampleDataCorrelations.style.background_gradient(cmap='coolwarm', axis=None).set_precision(2)"
   ]
  },
  {
   "cell_type": "code",
   "execution_count": 3,
   "metadata": {},
   "outputs": [
    {
     "data": {
      "text/plain": [
       "<AxesSubplot:xlabel='Defense', ylabel='Sp. Def'>"
      ]
     },
     "execution_count": 3,
     "metadata": {},
     "output_type": "execute_result"
    },
    {
     "data": {
      "image/png": "[encoded data removed]",
      "text/plain": [
       "<Figure size 432x288 with 1 Axes>"
      ]
     },
     "metadata": {
      "needs_background": "light"
     },
     "output_type": "display_data"
    }
   ],
   "source": [
    "pokemons.plot(kind='scatter', x='Defense', y='Sp. Def')\t"
   ]
  },
  {
   "cell_type": "code",
   "execution_count": 4,
   "metadata": {},
   "outputs": [
    {
     "data": {
      "text/plain": [
       "<AxesSubplot:xlabel='Defense', ylabel='Sp. Def'>"
      ]
     },
     "execution_count": 4,
     "metadata": {},
     "output_type": "execute_result"
    },
    {
     "data": {
      "image/png": "[encoded data removed]",
      "text/plain": [
       "<Figure size 432x288 with 1 Axes>"
      ]
     },
     "metadata": {
      "needs_background": "light"
     },
     "output_type": "display_data"
    }
   ],
   "source": [
    "pokemons.plot(kind='scatter', x='Defense', y='Sp. Def')\t"
   ]
  },
  {
   "cell_type": "markdown",
   "metadata": {},
   "source": [
    "It's not a super strong correlation, but we can see that some pokemons specialize in certain stats, per instance, pokemons can be stronger in their defense stats, what means the Attack and Sp. Attack stats of the pokemon won't be that high.\n",
    "It is what I expected. I have a bit of backgroudn knowledge of Pokemon, and what is seen in the scatter plot matches with the concept that I had in mind"
   ]
  }
 ],
 "metadata": {
  "interpreter": {
   "hash": "63fd5069d213b44bf678585dea6b12cceca9941eaf7f819626cde1f2670de90d"
  },
  "kernelspec": {
   "display_name": "Python 3 (ipykernel)",
   "language": "python",
   "name": "python3"
  },
  "language_info": {
   "codemirror_mode": {
    "name": "ipython",
    "version": 3
   },
   "file_extension": ".py",
   "mimetype": "text/x-python",
   "name": "python",
   "nbconvert_exporter": "python",
   "pygments_lexer": "ipython3",
   "version": "3.9.7"
  }
 },
 "nbformat": 4,
 "nbformat_minor": 2
}
